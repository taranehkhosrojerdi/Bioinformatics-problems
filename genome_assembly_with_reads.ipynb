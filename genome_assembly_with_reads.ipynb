{
  "cells": [
    {
      "cell_type": "markdown",
      "metadata": {
        "id": "kAw4NWl3f8iV"
      },
      "source": [
        "### introduction to Bioinformatics\n",
        "### homework 2\n",
        "### Name : Taraneh Khosrojerdi\n",
        "### Student Id : 400104929"
      ]
    },
    {
      "cell_type": "code",
      "execution_count": 3,
      "metadata": {
        "id": "YTMqU-Suf8ia"
      },
      "outputs": [],
      "source": [
        "import numpy as np\n",
        "import subprocess\n",
        "import random"
      ]
    },
    {
      "cell_type": "code",
      "execution_count": 4,
      "metadata": {
        "colab": {
          "base_uri": "https://localhost:8080/"
        },
        "id": "jnxAfxMGf8ic",
        "outputId": "44573956-db86-43aa-b3dd-294e58a6b658"
      },
      "outputs": [
        {
          "output_type": "stream",
          "name": "stdout",
          "text": [
            "Downloaded data for SRR390728_1.fastq.gz\n"
          ]
        }
      ],
      "source": [
        "# FTP URL of the FASTQ file you want to download\n",
        "ftp_url = 'ftp://ftp.sra.ebi.ac.uk/vol1/fastq/SRR390/SRR390728/SRR390728_1.fastq.gz'\n",
        "\n",
        "# Destination path where the downloaded file will be saved\n",
        "destination_path = 'SRR390728_1.fastq.gz'\n",
        "\n",
        "# Download data using wget\n",
        "try:\n",
        "    subprocess.run(['wget', ftp_url, '-O', destination_path], check=True)\n",
        "    print(f\"Downloaded data for SRR390728_1.fastq.gz\")\n",
        "except subprocess.CalledProcessError as e:\n",
        "    print(f\"Error: {e}\")"
      ]
    },
    {
      "cell_type": "code",
      "execution_count": 5,
      "metadata": {
        "id": "Nsz4Qt_Sf8id"
      },
      "outputs": [],
      "source": [
        "#Now You have to read from SRR390728_1.fastq.gz file and save all of this file sequence in concatenated_sequence\n",
        "#hint : use gzip library and read about fastq files and how they save genomes sequence\n",
        "import gzip\n",
        "\n",
        "concatenated_sequences = \"\"\n",
        "with gzip.open(\"SRR390728_1.fastq.gz\", 'rt') as f:\n",
        "  reads = f.readlines()\n",
        "  for i in range(1, len(reads), 4):\n",
        "    r = reads[i].strip()\n",
        "    if 'N' not in r:\n",
        "      concatenated_sequences += r\n"
      ]
    },
    {
      "cell_type": "code",
      "execution_count": 6,
      "metadata": {
        "id": "fVlTp4ANf8id"
      },
      "outputs": [],
      "source": [
        "#because genome is too long we just get first 35000 of genomes sequence and work with this genome after it\n",
        "#so only run this cell\n",
        "refrence_genome = concatenated_sequences[0:35000]"
      ]
    },
    {
      "cell_type": "markdown",
      "metadata": {
        "id": "Hg4_hyIff8ie"
      },
      "source": [
        "### just run the cell to create short reads from genome"
      ]
    },
    {
      "cell_type": "code",
      "execution_count": 7,
      "metadata": {
        "id": "eP9csC1yf8ie"
      },
      "outputs": [],
      "source": [
        "\n",
        "# Minimum length of each short read\n",
        "min_read_length = 90\n",
        "\n",
        "# Function to generate random short reads\n",
        "def generate_random_short_reads(sequence, min_length):\n",
        "    short_reads = []\n",
        "    remaining_sequence = sequence\n",
        "\n",
        "    while len(remaining_sequence) >= min_length:\n",
        "        read_length = random.randint(min(min_length, len(remaining_sequence)), min(len(remaining_sequence), 700))\n",
        "        short_read = remaining_sequence[:read_length]\n",
        "        short_reads.append(short_read)\n",
        "        remaining_sequence = remaining_sequence[read_length:]\n",
        "\n",
        "    return short_reads\n",
        "\n",
        "def mutate(input):\n",
        "    valid_inputs = ['A', 'C', 'T', 'G']\n",
        "    num = random.randint(1, 1000)\n",
        "    valid_inputs = [element for element in valid_inputs if element not in [input]]\n",
        "\n",
        "    if num < 40 :\n",
        "        shuffled_indices = list(range(len(valid_inputs)))\n",
        "        random.shuffle(shuffled_indices)\n",
        "        return valid_inputs[shuffled_indices[0]]\n",
        "    return input\n",
        "\n",
        "\n",
        "# Generate random short reads\n",
        "copy_num = 4\n",
        "short_reads = generate_random_short_reads(refrence_genome, min_read_length)\n",
        "for i in range (copy_num):\n",
        "    short_reads = short_reads + generate_random_short_reads(refrence_genome, min_read_length)\n",
        "\n",
        "\n",
        "shuffled_indices = list(range(len(short_reads)))\n",
        "random.shuffle(shuffled_indices)\n",
        "\n",
        "# Create a new list to store shuffled short reads\n",
        "short_reads = [short_reads[i] for i in shuffled_indices]\n",
        "\n",
        "#mutations\n",
        "for i in range (len(short_reads)):\n",
        "    for j in range (len(short_reads[i])):\n",
        "        mutate_char = mutate(short_reads[i][j])\n",
        "        if mutate_char != short_reads[i][j]:\n",
        "            if j != len(short_reads[i])-1:\n",
        "                short_reads[i] = short_reads[i][:j]+mutate_char+short_reads[i][j+1:]\n",
        "            else :\n",
        "                short_reads[i] = short_reads[i][:j]+mutate_char\n",
        "\n",
        "\n"
      ]
    },
    {
      "cell_type": "markdown",
      "metadata": {
        "id": "kwpmpYqXf8if"
      },
      "source": [
        "### just run the code below (it's just for calculating local alignment score with refrence genome)"
      ]
    },
    {
      "cell_type": "code",
      "execution_count": 8,
      "metadata": {
        "id": "amaFHy5Kf8if"
      },
      "outputs": [],
      "source": [
        "\n",
        "def smith_waterman(sequence1, sequence2, match=2, mismatch=-1, gap_open=-2, gap_extend=-1):\n",
        "    len_seq1, len_seq2 = len(sequence1), len(sequence2)\n",
        "    score_matrix = np.zeros((len_seq1 + 1, len_seq2 + 1), dtype=int)\n",
        "\n",
        "    for i in range(1, len_seq1 + 1):\n",
        "        for j in range(1, len_seq2 + 1):\n",
        "            match_mismatch_score = match if sequence1[i - 1] == sequence2[j - 1] else mismatch\n",
        "            diagonal_score = score_matrix[i - 1][j - 1] + match_mismatch_score\n",
        "            gap_up_score = score_matrix[i - 1][j] + gap_extend if score_matrix[i - 1][j] > 0 else gap_open\n",
        "            gap_left_score = score_matrix[i][j - 1] + gap_extend if score_matrix[i][j - 1] > 0 else gap_open\n",
        "\n",
        "            score_matrix[i][j] = max(0, diagonal_score, gap_up_score, gap_left_score)\n",
        "\n",
        "    # Find the maximum score in the score matrix\n",
        "    max_score = np.max(score_matrix)\n",
        "\n",
        "    return max_score\n"
      ]
    },
    {
      "cell_type": "code",
      "execution_count": 9,
      "metadata": {
        "colab": {
          "base_uri": "https://localhost:8080/"
        },
        "id": "jeANg3C2f8ig",
        "outputId": "17a49f1a-4778-4aa1-ee84-4493075d03d9"
      },
      "outputs": [
        {
          "output_type": "stream",
          "name": "stdout",
          "text": [
            "430\n",
            "AGACCGGGGACAAAACAACATCATGGTCCAACTTCTGGAGAGAGCGCATCATTTTTGATCTCCTGGCCGGACTGTAGAGGGCGCATCCTTTTTGACCTCCTGCGCGGAGTGGTCAAAACAGCATCATGGTTCAACTTCTGGTAACAATGTAGAGAGCGGATCCTTTTTGAGCTCCTGGGCCGAACAACAACATGTTACAATTTATGGTAACATGTCAGCATCGTACAACTTCTGGTAACATGTCAGTGGGCGACAAGAATCTAGAGGGCGCATCCTTTTTGATCTCCTGGCATTTAAGAATGTAGAGAGCGCATCCTTTTTGATCTGATCAAAAAGGATGCGCTCTCTACATTCTTAAATGCGCATTTAAGAATGTAGAGAGCGCATCCTTTTTTATCAACTCCTGGTAACATGTCA 417\n",
            "TGCCAGCGTCTTTACCTCCTTCCCACAACCAACAGTAAAAACACTACTCAAGATGGAAACTTCGTTACAGTTAACAGTGTTTGGCTTTTTTTCTTTTTGTGTTTTCAAGTTGCCATGGGGAAGAAGGAGGCTCTTTACTCGTTCAATCATTAGATTTTACGAACTTTTTAAAAGTTAAAATCGACTGTAACTAAGTTTCCATCTTCATTAGTGTTTCAACTGAAACTAAGGTTCTATCTT 240\n",
            "CAGAAGTGCAAGGCTGTAGTGAGGCATGACACCCAGAAGTTCAAGGCTGTAGTGAGCCATGATCATAAGATCAGCATTGCAGTCTCATCTCTTTGGAGGGTTAGCCTGGGCAACGGAGTGAGTCCCTGTCTTAAAAACGGCGTGGCGCCCTCCAGCTGGGCGTGAACCAGGCACCTGGCCTGGCGTCCTCCAGCTGGGTGTGCACCAGGCACAAACAAACAAACAAACAAACAAAAACGTACTACACAAACAAACAAACAAACAAACAAAAACCTACTACACCTACTACAGGATTGATGCCAAACAAATGTTAAACAAGATTGATGTCAAAAGAATGTTAAACAAAACCAAAAAATCCCATGTGCCTGCAGTCTCGTCTTAGCAGCACCCAAGCACAGCGAAGACCCGTCCAGGCTAGTCTCAACCGAGATGGGACTGCAATGCTGATCTGCCTGGTTACCCCTGGTCGCAACCCTCCAATGAGATGAGACTGCAATGCTGATCTGCCTGGTTCCCCGCTCCAGGCTCAACCTTCTGGTTACCCGTTCCAGGGTCCACCTGCAGTGCCTGCAGT 574\n",
            "CTGCTTTTTCTATCTTGGAAAAAAAAAATAACCACACACGCGACACTCTCCCACTCAGTGCGAGGTTAACCACAAACGAGACACTCTACCACTCAGTGCGAGCTGTGTTAACCAGAAACGCCCCACTCTCTCACGCAGCAGAGCGCTGTGTTAACCATAAACGAGACACTCTCGGGAGGGGTCGCAGAGCGCTGTGGTAACCACAAACGAAAAATCAGACTTATGCATCACGTCCATTTAAGCACAACGTACGTCTGGGAGGGGTCGCAGAGCGCTGTGTTCACCAACCTAAAATAAGGTTTGTATTAATTAAATCCCAAGTCTCCTCAGTGAAAACCGTACGTCTGGGAGGGCCCCAAGTCTCCTCGGCGGAAACCGTACCCCTGGGAACTCCCCCCAAGTCTTCTCAGTGAAAACCGCACGTCGCAGAGCACTCCCCCCTAGTCTCCTCAGTGAAAACTCCTAAAATAAGGTTTGTATTAATTAAAGCCTGAAAATTGTGTTAATTAAATCCTGTAAAATCGATTTCT 530\n",
            "GCCAGAATACATTTATTAAACAATGTTAAGACATTAAAGGAGTAGATTCATTTAATGTGTTAACGTTGGTTAATAAATTATATCAGCTGCATTTCAATTATTGCCAATCAGCTTTACTTCAATATGGTCGCCCCCAATTACAGAAGCAACAGGAGGGTATGGACTACGTCCTGTCCTTGCAAGGCTCCCTCCTGGAACCACGAAGGATAGAATAGCAGAAGCGATCGGGTATACAGCAATGGGCAGAGCAGAGCAGACCAGCAATGAGCAGAGCGGAGCAGACCTCTCCGGTATCATTTTCACTTTGTAGCTTTTTCAACCTTTACTTTTAGACCAACCCTGTAGGCCATGAGGGAGGGG 360\n",
            "GATGAGAGTCTTCAGTGATGAGAGTCTTCAGTGGGACAGGACTCAACTGGCCCAGTCAGAGTCGCGCGTTTTACAGCGAGTTTTTTTTTCAGAGGCATTGCTCTGAGCGCTGGACAGAGGGACAGGCCCTGGCTCAGCCAACCTGCTCTCTGCATGATGGGTGTGTCACATTGATGGTTCCTCTATGGTGCTGGGACGGAGTCGCGGGTGTCACAGTGATGTTTTCTCTATTGCCACGTAACCCGTGTCAGACCCAGAAGCCCCCCTGCCCCGTGTCAGACCCAGAAGCCCACCTGCAGCCGTAGCCAAGGTGCTAAGATGTCCTGGAGAACCCCTTACCAGGAGAGTTTGTTTTGTTTCCATTATCTTTCTCTATTCCCCAGCTGATCCTAACAGTAGCTCCACCAAGGCAGACCCTGTTACTGCGATGGGTTC 435\n",
            "CTTTCTTCAGGTGATGGCAGGAAGGAGAAGTATGGAGTCTCACTTTTTTCACCCAGGCTGGAATGCACACTTACATTCAAGGATCATATTGATATGTGAGGTGGTCTATACACCCCACTTAAAAGGTACAGAGTGGAAAAACAGAAGGAAAGAAATAACCAAAATCAGAGAAGTACACACCTGTAATCCCAGCACTTTGGGAGGGCGAGGCCGTGGAACCTATAGATTGCTTTGGGCAGTATGGCCACAACAAGCAAAAAACACATAAACCAATTTAAAAATGCTGGGTCATGGTGGGGAGGAGACAAGCTTCACGGTGTGACGATCTCTCAGGGCATCTCTGAAAGTGGCTCTCGGCAGTGACAGGCGTTGTTGCAGCAAGCAGAAAACCAGAGGAAGGCAGAGCTCCATGCTGCTGTCCGGCCGGGTTTCCTTATTCCCAAAGCCACACAAAAAGAAACTATTCCCTGCTGCTCTGTTTCTTGTTTCTCTTTGCCTTTTTTTCACTCCTGTCGGTGTAACGTGCCGTATTTTTAAGTCAAAGGATGAAAAACGGAACGTTACACCGACAATGCCTTTGTTAGTGTCACAACTTCAGAGCAAAGACGCCGTTGTTACTGTCAAAAGTTCAGAGCAAAGACAAAGAGATGGATTGCCTTTCTTACTGTCAAAACTTCAGGAGA 683\n",
            "GCATCTGTGAGCTCAGTTCTGCCCTTCTGGCACCACCAGACCAGCTGCCTACTATAGACTGCACCAGCACTTGACCCACAATCTGTCGTTTCGGCAATTATAATCCGTACCCCTGGAAGTATCTTTCGGAGAGCCCTCCCAAGACAGCGTGTGCATCGCAGCCAAAATGCAAAACCAGTAGTGATGGCCTCAAAATAAATGGGGAGGGTGCCTGT 215\n",
            "GGCGCGAGAATTTTCCCGGCGCAGATTTGCTTTACAGCAGACTTGGCCATCCTAGAGTCCTAGGTCTCCACGTGAAGATGCCTTCCTCTGCGCTCTCAGCTTCCTCCACTACTATGCATTGAGCTCAATGTGTGTCATGCGACTTGTTAGGCCATTGGTGGAGTCTTTGCATTCTATTAAATTATCCATGCAGGCAGCAAGGCTACGCCACACACGCAGTTCAGACTAGTTTTTGGTTTTCAGTAGATGAAGGAATTCAAGACCAGTTTTAGGTTTTCTATAAATGAAGGAATCTAGGAGTCTAGGACTGCCAAGACATTCCCATTTCCCCTAGGGGGTTGGGCCCAAGGTTCCACTGAGTTTTCGAATCCAAAAGTTTTGTTCCGTCAGTGCCCTAGAGGTGTATTACATAACCTGGAAAGGAGTTAAGAAATAGTGTCCCATAGTCTGACGTGCAGTCTCCGCAAGTCACGAATAGTCTTGGCTAATTCCTTCATTTACAGAAAACCATGGGACATGGATGAGTACTGAGCCACAGGTGGGGCCCTAACAGGGCAAAACTCTGTGGAACCTTGGGCCAAACTCTGTGGAACCTTGGGCCAAACCCTCTAGGGCAACATAATGCAGGCCCAGGACCCTCTCTCCCTGTGAGGAGTTCAGC 661\n",
            "GAGACGCTGCGCATTCCTGCACCTGCTCGTTTTGGCGTCTTGTTACTAGTCATGCAACCTCTATGGGTCGTAAATCGGTGCAGGTGCACGGAGCCGTCACAGGTTACCGCGTATAAATAGATGCAGGTGAGCGGAGCAGCCGGGGGCTCCCGGTATCTCTCTGCGGGCTCTGCCAGCCTGGTCTCTGGGGGCTCCAGGTGTGGACTTGAGGGCGACCGCGTGTAAATCGGTGCAGGTGAACGGAGCCGCCTCCGGGTGTGGACTTGAGGGCTGGGGGCTCCCGGTTCCAGGTGTGGACCTGAGGGCTGGGGGCTCCCGGTAACCTTCACCGATTTACACGCGGCCGCCGTGAGGGCCTTCCGCCCTCACTGCGACCGTGTGTAATTCGGTGCGTTTTAAAGGAATTTTCGACAGAAAACACAACACAGGAATGGGGAAGAAGGAGGCTCTTT 452\n"
          ]
        }
      ],
      "source": [
        "# Print 10 samples of short reads with length\n",
        "print(len(short_reads))\n",
        "for i in range(10):\n",
        "  index = random.randrange(0, len(short_reads) - 1)\n",
        "  print(short_reads[i], len(short_reads[i]))"
      ]
    },
    {
      "cell_type": "code",
      "execution_count": null,
      "metadata": {
        "id": "SlZl19t7ZEqx"
      },
      "outputs": [],
      "source": [
        "def find_max_overlap(strings):\n",
        "    max_overlap = 0\n",
        "    max_overlap_index = -1\n",
        "\n",
        "    base_seq = strings[0]\n",
        "    for i in range(1, len(strings)):\n",
        "            overlap = calculate_overlap(base_seq, strings[i])\n",
        "\n",
        "            if overlap > max_overlap:\n",
        "                max_overlap = overlap\n",
        "                max_overlap_index = i\n",
        "\n",
        "    return max_overlap_index, max_overlap\n",
        "\n",
        "def calculate_overlap(string1, string2):\n",
        "    max_overlap = min(len(string1), len(string2))\n",
        "\n",
        "    for i in range(max_overlap, 0, -1):\n",
        "        if string1.endswith(string2[:i]):\n",
        "            return i\n",
        "\n",
        "    return 0\n"
      ]
    },
    {
      "cell_type": "code",
      "execution_count": null,
      "metadata": {
        "id": "oRK3qemQ19jG"
      },
      "outputs": [],
      "source": [
        "def merge(T, j, l):\n",
        "  st2 = T[j]\n",
        "  T[0] += T[j][l:]\n",
        "  T.pop(j)"
      ]
    },
    {
      "cell_type": "code",
      "execution_count": null,
      "metadata": {
        "colab": {
          "base_uri": "https://localhost:8080/"
        },
        "id": "_Xq_H7Ylf8ig",
        "outputId": "911e3f5b-bfa9-4623-8761-e3b3c1a3f607"
      },
      "outputs": [
        {
          "name": "stdout",
          "output_type": "stream",
          "text": [
            "1538\n"
          ]
        }
      ],
      "source": [
        "\n",
        "# Function to perform greedy overlap-based assembly\n",
        "def heuristic_assemble(short_reads):\n",
        "    #TODO\n",
        "    T = short_reads\n",
        "    while len(T) > 1 and len(T[0]) < 1500:\n",
        "      i, l = find_max_overlap(T)\n",
        "      merge(T, i, l)\n",
        "\n",
        "    return T[0]\n",
        "\n",
        "# Perform greedy overlap-based assembly\n",
        "short_reads_copy = short_reads\n",
        "assembled_sequence = heuristic_assemble(short_reads_copy)\n",
        "print(len(assembled_sequence))\n"
      ]
    },
    {
      "cell_type": "markdown",
      "metadata": {
        "id": "tGFlwSj5f8ih"
      },
      "source": [
        "### Your alignment score should be at least 1250"
      ]
    },
    {
      "cell_type": "code",
      "execution_count": null,
      "metadata": {
        "colab": {
          "base_uri": "https://localhost:8080/"
        },
        "id": "QrdOBgwyf8ii",
        "outputId": "7f3e98b7-4555-4e2d-a2bf-20fc4a8d8f5c"
      },
      "outputs": [
        {
          "name": "stdout",
          "output_type": "stream",
          "text": [
            "Local Alignment Score: 1736\n"
          ]
        }
      ],
      "source": [
        "# Calculate the local alignment score using Smith-Waterman algorithm\n",
        "alignment_score = smith_waterman(refrence_genome, assembled_sequence)\n",
        "\n",
        "# Print the local alignment score\n",
        "print(\"Local Alignment Score:\", alignment_score)"
      ]
    },
    {
      "cell_type": "code",
      "execution_count": 12,
      "metadata": {
        "id": "weQhPQ77vvu-"
      },
      "outputs": [],
      "source": [
        "import copy\n",
        "\n",
        "def generate_k_mers(reads, k):\n",
        "    k_mers = []\n",
        "    for read in reads:\n",
        "        for i in range(len(read) - k + 1):\n",
        "            k_mers.append(read[i:i+k])\n",
        "    return k_mers\n",
        "\n",
        "def construct_graph(strings):\n",
        "    g = {}\n",
        "    for s in strings:\n",
        "        prefix = s[:-1]\n",
        "        suffix = s[1:]\n",
        "        if prefix not in g:\n",
        "          g[prefix] = []\n",
        "        g[prefix].append(suffix)\n",
        "\n",
        "    return g\n",
        "\n",
        "def find_assembly(k_mers, g, seq):\n",
        "  for item in g.items():\n",
        "    assembly = item[0]\n",
        "    curr_node = item[0]\n",
        "    g_copy = copy.copy(g)\n",
        "    while True:\n",
        "      if curr_node not in g_copy or len(g_copy[curr_node]) == 0:\n",
        "        break\n",
        "      tmp_node = g_copy[curr_node][0]\n",
        "      assembly += tmp_node[-1]\n",
        "      g_copy[curr_node].remove(tmp_node)\n",
        "      curr_node = tmp_node\n",
        "\n",
        "    if len(assembly) > 2500:\n",
        "      seq = assembly\n",
        "      break\n",
        "  return seq"
      ]
    },
    {
      "cell_type": "code",
      "execution_count": 17,
      "metadata": {
        "colab": {
          "base_uri": "https://localhost:8080/"
        },
        "id": "jN2JFgaIbGWp",
        "outputId": "1eb40659-b121-4119-f887-edc66ed9affd"
      },
      "outputs": [
        {
          "output_type": "stream",
          "name": "stdout",
          "text": [
            "2608\n"
          ]
        }
      ],
      "source": [
        "def perform_de_novo_assembly(short_reads, k=25):\n",
        "  k_mers = generate_k_mers(short_reads, k)\n",
        "  g = construct_graph(k_mers)\n",
        "  seq = ''\n",
        "\n",
        "  return find_assembly(k_mers, g, seq)\n",
        "\n",
        "de_brujin_assembled_sequence = perform_de_novo_assembly(short_reads)\n",
        "print(len(de_brujin_assembled_sequence))"
      ]
    },
    {
      "cell_type": "markdown",
      "metadata": {
        "id": "pDxywzkdf8ij"
      },
      "source": [
        "### Your alignment score should be at least 3800"
      ]
    },
    {
      "cell_type": "code",
      "execution_count": 19,
      "metadata": {
        "colab": {
          "base_uri": "https://localhost:8080/"
        },
        "id": "RZ74wdiQf8ik",
        "outputId": "357064a3-85e4-403f-b721-3ff93eb365c3"
      },
      "outputs": [
        {
          "output_type": "stream",
          "name": "stdout",
          "text": [
            "Local Alignment Score: 4710\n"
          ]
        }
      ],
      "source": [
        "alignment_score = smith_waterman(refrence_genome, de_brujin_assembled_sequence)\n",
        "# Print the local alignment score\n",
        "print(\"Local Alignment Score:\", alignment_score)\n"
      ]
    }
  ],
  "metadata": {
    "accelerator": "GPU",
    "colab": {
      "provenance": []
    },
    "kernelspec": {
      "display_name": "Python 3",
      "name": "python3"
    },
    "language_info": {
      "codemirror_mode": {
        "name": "ipython",
        "version": 3
      },
      "file_extension": ".py",
      "mimetype": "text/x-python",
      "name": "python",
      "nbconvert_exporter": "python",
      "pygments_lexer": "ipython3",
      "version": "3.10.12"
    },
    "vscode": {
      "interpreter": {
        "hash": "916dbcbb3f70747c44a77c7bcd40155683ae19c65e1c03b4aa3499c5328201f1"
      }
    }
  },
  "nbformat": 4,
  "nbformat_minor": 0
}